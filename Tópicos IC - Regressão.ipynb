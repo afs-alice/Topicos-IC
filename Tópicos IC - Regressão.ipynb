{
 "cells": [
  {
   "cell_type": "code",
   "execution_count": 28,
   "metadata": {},
   "outputs": [],
   "source": [
    "import matplotlib.pyplot as plt\n",
    "import numpy as np\n",
    "from sklearn import linear_model\n",
    "from sklearn.datasets import load_diabetes\n",
    "\n",
    "# Load the diabetes dataset\n",
    "diabetes = load_diabetes()\n",
    "\n",
    "#print (diabetes.DESCR)\n"
   ]
  },
  {
   "cell_type": "code",
   "execution_count": 29,
   "metadata": {},
   "outputs": [],
   "source": [
    "import pandas\n",
    "\n",
    "tabela = pandas.DataFrame(diabetes.data)\n",
    "tabela.columns = diabetes.feature_names"
   ]
  },
  {
   "cell_type": "code",
   "execution_count": 30,
   "metadata": {},
   "outputs": [
    {
     "data": {
      "text/html": [
       "<div>\n",
       "<style scoped>\n",
       "    .dataframe tbody tr th:only-of-type {\n",
       "        vertical-align: middle;\n",
       "    }\n",
       "\n",
       "    .dataframe tbody tr th {\n",
       "        vertical-align: top;\n",
       "    }\n",
       "\n",
       "    .dataframe thead th {\n",
       "        text-align: right;\n",
       "    }\n",
       "</style>\n",
       "<table border=\"1\" class=\"dataframe\">\n",
       "  <thead>\n",
       "    <tr style=\"text-align: right;\">\n",
       "      <th></th>\n",
       "      <th>age</th>\n",
       "      <th>sex</th>\n",
       "      <th>bmi</th>\n",
       "      <th>bp</th>\n",
       "      <th>s1</th>\n",
       "      <th>s2</th>\n",
       "      <th>s3</th>\n",
       "      <th>s4</th>\n",
       "      <th>s5</th>\n",
       "      <th>s6</th>\n",
       "      <th>y</th>\n",
       "    </tr>\n",
       "  </thead>\n",
       "  <tbody>\n",
       "    <tr>\n",
       "      <th>0</th>\n",
       "      <td>0.038076</td>\n",
       "      <td>0.050680</td>\n",
       "      <td>0.061696</td>\n",
       "      <td>0.021872</td>\n",
       "      <td>-0.044223</td>\n",
       "      <td>-0.034821</td>\n",
       "      <td>-0.043401</td>\n",
       "      <td>-0.002592</td>\n",
       "      <td>0.019908</td>\n",
       "      <td>-0.017646</td>\n",
       "      <td>151.0</td>\n",
       "    </tr>\n",
       "    <tr>\n",
       "      <th>1</th>\n",
       "      <td>-0.001882</td>\n",
       "      <td>-0.044642</td>\n",
       "      <td>-0.051474</td>\n",
       "      <td>-0.026328</td>\n",
       "      <td>-0.008449</td>\n",
       "      <td>-0.019163</td>\n",
       "      <td>0.074412</td>\n",
       "      <td>-0.039493</td>\n",
       "      <td>-0.068330</td>\n",
       "      <td>-0.092204</td>\n",
       "      <td>75.0</td>\n",
       "    </tr>\n",
       "    <tr>\n",
       "      <th>2</th>\n",
       "      <td>0.085299</td>\n",
       "      <td>0.050680</td>\n",
       "      <td>0.044451</td>\n",
       "      <td>-0.005671</td>\n",
       "      <td>-0.045599</td>\n",
       "      <td>-0.034194</td>\n",
       "      <td>-0.032356</td>\n",
       "      <td>-0.002592</td>\n",
       "      <td>0.002864</td>\n",
       "      <td>-0.025930</td>\n",
       "      <td>141.0</td>\n",
       "    </tr>\n",
       "    <tr>\n",
       "      <th>3</th>\n",
       "      <td>-0.089063</td>\n",
       "      <td>-0.044642</td>\n",
       "      <td>-0.011595</td>\n",
       "      <td>-0.036656</td>\n",
       "      <td>0.012191</td>\n",
       "      <td>0.024991</td>\n",
       "      <td>-0.036038</td>\n",
       "      <td>0.034309</td>\n",
       "      <td>0.022692</td>\n",
       "      <td>-0.009362</td>\n",
       "      <td>206.0</td>\n",
       "    </tr>\n",
       "    <tr>\n",
       "      <th>4</th>\n",
       "      <td>0.005383</td>\n",
       "      <td>-0.044642</td>\n",
       "      <td>-0.036385</td>\n",
       "      <td>0.021872</td>\n",
       "      <td>0.003935</td>\n",
       "      <td>0.015596</td>\n",
       "      <td>0.008142</td>\n",
       "      <td>-0.002592</td>\n",
       "      <td>-0.031991</td>\n",
       "      <td>-0.046641</td>\n",
       "      <td>135.0</td>\n",
       "    </tr>\n",
       "    <tr>\n",
       "      <th>5</th>\n",
       "      <td>-0.092695</td>\n",
       "      <td>-0.044642</td>\n",
       "      <td>-0.040696</td>\n",
       "      <td>-0.019442</td>\n",
       "      <td>-0.068991</td>\n",
       "      <td>-0.079288</td>\n",
       "      <td>0.041277</td>\n",
       "      <td>-0.076395</td>\n",
       "      <td>-0.041180</td>\n",
       "      <td>-0.096346</td>\n",
       "      <td>97.0</td>\n",
       "    </tr>\n",
       "    <tr>\n",
       "      <th>6</th>\n",
       "      <td>-0.045472</td>\n",
       "      <td>0.050680</td>\n",
       "      <td>-0.047163</td>\n",
       "      <td>-0.015999</td>\n",
       "      <td>-0.040096</td>\n",
       "      <td>-0.024800</td>\n",
       "      <td>0.000779</td>\n",
       "      <td>-0.039493</td>\n",
       "      <td>-0.062913</td>\n",
       "      <td>-0.038357</td>\n",
       "      <td>138.0</td>\n",
       "    </tr>\n",
       "    <tr>\n",
       "      <th>7</th>\n",
       "      <td>0.063504</td>\n",
       "      <td>0.050680</td>\n",
       "      <td>-0.001895</td>\n",
       "      <td>0.066630</td>\n",
       "      <td>0.090620</td>\n",
       "      <td>0.108914</td>\n",
       "      <td>0.022869</td>\n",
       "      <td>0.017703</td>\n",
       "      <td>-0.035817</td>\n",
       "      <td>0.003064</td>\n",
       "      <td>63.0</td>\n",
       "    </tr>\n",
       "    <tr>\n",
       "      <th>8</th>\n",
       "      <td>0.041708</td>\n",
       "      <td>0.050680</td>\n",
       "      <td>0.061696</td>\n",
       "      <td>-0.040099</td>\n",
       "      <td>-0.013953</td>\n",
       "      <td>0.006202</td>\n",
       "      <td>-0.028674</td>\n",
       "      <td>-0.002592</td>\n",
       "      <td>-0.014956</td>\n",
       "      <td>0.011349</td>\n",
       "      <td>110.0</td>\n",
       "    </tr>\n",
       "    <tr>\n",
       "      <th>9</th>\n",
       "      <td>-0.070900</td>\n",
       "      <td>-0.044642</td>\n",
       "      <td>0.039062</td>\n",
       "      <td>-0.033214</td>\n",
       "      <td>-0.012577</td>\n",
       "      <td>-0.034508</td>\n",
       "      <td>-0.024993</td>\n",
       "      <td>-0.002592</td>\n",
       "      <td>0.067736</td>\n",
       "      <td>-0.013504</td>\n",
       "      <td>310.0</td>\n",
       "    </tr>\n",
       "  </tbody>\n",
       "</table>\n",
       "</div>"
      ],
      "text/plain": [
       "        age       sex       bmi        bp        s1        s2        s3  \\\n",
       "0  0.038076  0.050680  0.061696  0.021872 -0.044223 -0.034821 -0.043401   \n",
       "1 -0.001882 -0.044642 -0.051474 -0.026328 -0.008449 -0.019163  0.074412   \n",
       "2  0.085299  0.050680  0.044451 -0.005671 -0.045599 -0.034194 -0.032356   \n",
       "3 -0.089063 -0.044642 -0.011595 -0.036656  0.012191  0.024991 -0.036038   \n",
       "4  0.005383 -0.044642 -0.036385  0.021872  0.003935  0.015596  0.008142   \n",
       "5 -0.092695 -0.044642 -0.040696 -0.019442 -0.068991 -0.079288  0.041277   \n",
       "6 -0.045472  0.050680 -0.047163 -0.015999 -0.040096 -0.024800  0.000779   \n",
       "7  0.063504  0.050680 -0.001895  0.066630  0.090620  0.108914  0.022869   \n",
       "8  0.041708  0.050680  0.061696 -0.040099 -0.013953  0.006202 -0.028674   \n",
       "9 -0.070900 -0.044642  0.039062 -0.033214 -0.012577 -0.034508 -0.024993   \n",
       "\n",
       "         s4        s5        s6      y  \n",
       "0 -0.002592  0.019908 -0.017646  151.0  \n",
       "1 -0.039493 -0.068330 -0.092204   75.0  \n",
       "2 -0.002592  0.002864 -0.025930  141.0  \n",
       "3  0.034309  0.022692 -0.009362  206.0  \n",
       "4 -0.002592 -0.031991 -0.046641  135.0  \n",
       "5 -0.076395 -0.041180 -0.096346   97.0  \n",
       "6 -0.039493 -0.062913 -0.038357  138.0  \n",
       "7  0.017703 -0.035817  0.003064   63.0  \n",
       "8 -0.002592 -0.014956  0.011349  110.0  \n",
       "9 -0.002592  0.067736 -0.013504  310.0  "
      ]
     },
     "execution_count": 30,
     "metadata": {},
     "output_type": "execute_result"
    }
   ],
   "source": [
    "# e a progressao da doenca\n",
    "tabela['y'] = diabetes.target\n",
    "tabela.head(10)"
   ]
  },
  {
   "cell_type": "code",
   "execution_count": 31,
   "metadata": {},
   "outputs": [
    {
     "name": "stdout",
     "output_type": "stream",
     "text": [
      "Coeficiente b1: \n",
      " [306.72757499]\n",
      "Coeficiente b0: \n",
      " 153.24279071761313\n"
     ]
    }
   ],
   "source": [
    "X = tabela['age']\n",
    "X_treinamento = X[:-20].array.to_numpy().reshape(-1,1)\n",
    "X_teste = X[-20:].array.to_numpy().reshape(-1,1)\n",
    "\n",
    "y = tabela['y']\n",
    "y_treinamento = y[:-20]\n",
    "y_teste = y[-20:].array.to_numpy().reshape(-1,1)\n",
    "\n",
    "\n",
    "regr = linear_model.LinearRegression()\n",
    "\n",
    "regr.fit(X_treinamento, y_treinamento)\n",
    "\n",
    "#coeficientes b1\n",
    "print('Coeficiente b1: \\n', regr.coef_)\n",
    "#intercepto b0\n",
    "print('Coeficiente b0: \\n', regr.intercept_)"
   ]
  },
  {
   "cell_type": "code",
   "execution_count": 32,
   "metadata": {},
   "outputs": [
    {
     "data": {
      "image/png": "[encoded data removed]",
      "text/plain": [
       "<Figure size 432x288 with 1 Axes>"
      ]
     },
     "metadata": {},
     "output_type": "display_data"
    }
   ],
   "source": [
    "# Predição\n",
    "diabetes_y_pred = regr.predict(X_teste)\n",
    "\n",
    "plt.scatter(X_teste, y_teste, color='black')\n",
    "plt.plot(X_teste, diabetes_y_pred, color='blue', linewidth=3)\n",
    "\n",
    "plt.xticks(())\n",
    "plt.yticks(())\n",
    "\n",
    "plt.show()"
   ]
  },
  {
   "cell_type": "code",
   "execution_count": 33,
   "metadata": {},
   "outputs": [
    {
     "name": "stdout",
     "output_type": "stream",
     "text": [
      "Erro médio:  [65.55814703]\n",
      "Erro quadrático: [ 286.68090883907655 ]\n"
     ]
    }
   ],
   "source": [
    "print('Erro médio: ', sum(abs(y_teste-diabetes_y_pred.reshape(-1,1)))/y_teste.size)\n",
    "print('Erro quadrático: [', np.mean((regr.predict(X_treinamento) - y_treinamento) ** 2)/y_teste.size, ']')"
   ]
  },
  {
   "cell_type": "code",
   "execution_count": 34,
   "metadata": {},
   "outputs": [
    {
     "name": "stdout",
     "output_type": "stream",
     "text": [
      "Coeficiente b1: \n",
      " [938.23786125]\n",
      "Coeficiente b0: \n",
      " 152.91886182616167\n"
     ]
    }
   ],
   "source": [
    "X1 = tabela['bmi']\n",
    "X1_treinamento = X1[:-20].array.to_numpy().reshape(-1,1)\n",
    "X1_teste = X1[-20:].array.to_numpy().reshape(-1,1)\n",
    "\n",
    "y1 = tabela['y']\n",
    "y1_treinamento = y1[:-20]\n",
    "y1_teste = y1[-20:].array.to_numpy().reshape(-1,1)\n",
    "\n",
    "\n",
    "regr1 = linear_model.LinearRegression()\n",
    "\n",
    "regr1.fit(X1_treinamento, y1_treinamento)\n",
    "\n",
    "#coeficientes b1\n",
    "print('Coeficiente b1: \\n', regr1.coef_)\n",
    "#intercepto b0\n",
    "print('Coeficiente b0: \\n', regr1.intercept_)"
   ]
  },
  {
   "cell_type": "code",
   "execution_count": 35,
   "metadata": {
    "scrolled": true
   },
   "outputs": [
    {
     "data": {
      "image/png": "[encoded data removed]",
      "text/plain": [
       "<Figure size 432x288 with 1 Axes>"
      ]
     },
     "metadata": {},
     "output_type": "display_data"
    }
   ],
   "source": [
    "# Predição\n",
    "diabetes_y1_pred = regr1.predict(X1_teste)\n",
    "\n",
    "plt.scatter(X1_teste, y1_teste, color='black')\n",
    "plt.plot(X1_teste, diabetes_y1_pred, color='blue', linewidth=3)\n",
    "\n",
    "plt.xticks(())\n",
    "plt.yticks(())\n",
    "\n",
    "plt.show()"
   ]
  },
  {
   "cell_type": "code",
   "execution_count": 36,
   "metadata": {
    "scrolled": true
   },
   "outputs": [
    {
     "name": "stdout",
     "output_type": "stream",
     "text": [
      "Erro médio:  [41.22709129]\n",
      "Erro quadrático: [ 197.7509926700697 ]\n"
     ]
    }
   ],
   "source": [
    "print('Erro médio: ', sum(abs(y1_teste - diabetes_y1_pred.reshape(-1,1)))/y1_teste.size)\n",
    "print('Erro quadrático: [', np.mean((regr1.predict(X1_treinamento) - y1_treinamento) ** 2)/y1_teste.size, ']')"
   ]
  },
  {
   "cell_type": "code",
   "execution_count": 37,
   "metadata": {},
   "outputs": [
    {
     "name": "stdout",
     "output_type": "stream",
     "text": [
      "Coeficiente b1: \n",
      " [701.12961061]\n",
      "Coeficiente b0: \n",
      " 153.29420090748866\n"
     ]
    }
   ],
   "source": [
    "X2 = tabela['s4']\n",
    "X2_treinamento = X2[:-20].array.to_numpy().reshape(-1,1)\n",
    "X2_teste = X2[-20:].array.to_numpy().reshape(-1,1)\n",
    "\n",
    "y2 = tabela['y']\n",
    "y2_treinamento = y2[:-20]\n",
    "y2_teste = y2[-20:].array.to_numpy().reshape(-1,1)\n",
    "\n",
    "\n",
    "regr2 = linear_model.LinearRegression()\n",
    "\n",
    "regr2.fit(X2_treinamento, y2_treinamento)\n",
    "\n",
    "#coeficientes b1\n",
    "print('Coeficiente b1: \\n', regr2.coef_)\n",
    "#intercepto b0\n",
    "print('Coeficiente b0: \\n', regr2.intercept_)"
   ]
  },
  {
   "cell_type": "code",
   "execution_count": 38,
   "metadata": {},
   "outputs": [
    {
     "data": {
      "image/png": "[encoded data removed]",
      "text/plain": [
       "<Figure size 432x288 with 1 Axes>"
      ]
     },
     "metadata": {},
     "output_type": "display_data"
    }
   ],
   "source": [
    "# Predição\n",
    "diabetes_y2_pred = regr2.predict(X2_teste)\n",
    "\n",
    "plt.scatter(X2_teste, y2_teste, color='black')\n",
    "plt.plot(X2_teste, diabetes_y2_pred, color='blue', linewidth=3)\n",
    "\n",
    "plt.xticks(())\n",
    "plt.yticks(())\n",
    "\n",
    "plt.show()"
   ]
  },
  {
   "cell_type": "code",
   "execution_count": 39,
   "metadata": {},
   "outputs": [
    {
     "name": "stdout",
     "output_type": "stream",
     "text": [
      "Erro médio:  [60.66315976]\n",
      "Erro quadrático: [ 241.5829622605401 ]\n"
     ]
    }
   ],
   "source": [
    "print('Erro médio: ', sum(abs(y2_teste - diabetes_y2_pred.reshape(-1,1)))/y2_teste.size)\n",
    "print('Erro quadrático: [', np.mean((regr2.predict(X2_treinamento) - y2_treinamento) ** 2)/y2_teste.size, ']')"
   ]
  },
  {
   "cell_type": "code",
   "execution_count": 40,
   "metadata": {},
   "outputs": [
    {
     "name": "stdout",
     "output_type": "stream",
     "text": [
      "                            OLS Regression Results                            \n",
      "==============================================================================\n",
      "Dep. Variable:                      y   R-squared:                       0.247\n",
      "Model:                            OLS   Adj. R-squared:                  0.244\n",
      "Method:                 Least Squares   F-statistic:                     72.00\n",
      "Date:                Wed, 07 Oct 2020   Prob (F-statistic):           9.06e-28\n",
      "Time:                        22:38:57   Log-Likelihood:                -2484.5\n",
      "No. Observations:                 442   AIC:                             4975.\n",
      "Df Residuals:                     439   BIC:                             4987.\n",
      "Df Model:                           2                                         \n",
      "Covariance Type:            nonrobust                                         \n",
      "==============================================================================\n",
      "                 coef    std err          t      P>|t|      [0.025      0.975]\n",
      "------------------------------------------------------------------------------\n",
      "const        152.1335      3.189     47.702      0.000     145.865     158.402\n",
      "x1           558.0444     72.831      7.662      0.000     414.904     701.184\n",
      "x2           401.3459     72.831      5.511      0.000     258.206     544.486\n",
      "==============================================================================\n",
      "Omnibus:                       10.701   Durbin-Watson:                   2.000\n",
      "Prob(Omnibus):                  0.005   Jarque-Bera (JB):                8.397\n",
      "Skew:                           0.242   Prob(JB):                       0.0150\n",
      "Kurtosis:                       2.530   Cond. No.                         26.9\n",
      "==============================================================================\n",
      "\n",
      "Warnings:\n",
      "[1] Standard Errors assume that the covariance matrix of the errors is correctly specified.\n"
     ]
    }
   ],
   "source": [
    "import statsmodels.api as sm\n",
    "\n",
    "Xm1 = tabela['bmi']\n",
    "Xm1_treinamento = Xm1[:-20].array.to_numpy().reshape(-1,1)\n",
    "Xm1_teste = Xm1[-20:].array.to_numpy().reshape(-1,1)\n",
    "\n",
    "Xm2 = tabela['s4']\n",
    "Xm2_treinamento = Xm2[:-20].array.to_numpy().reshape(-1,1)\n",
    "Xm2_teste = Xm2[-20:].array.to_numpy().reshape(-1,1)\n",
    "\n",
    "ym = tabela['y']\n",
    "ym_treinamento = ym[:-20]\n",
    "ym_teste = ym[-20:].array.to_numpy().reshape(-1,1)\n",
    "\n",
    "xx = np.column_stack((tabela['bp'], tabela['s6']))  #Agrupa as variaveis preditorass\n",
    "\n",
    "xxm = sm.add_constant(xx, prepend=True) #Adiciona a coluna das constantes\n",
    "\n",
    "res = sm.OLS(ym,xxm).fit() #Cria e ajusta o modelo\n",
    "\n",
    "print (res.summary())\n"
   ]
  },
  {
   "cell_type": "markdown",
   "metadata": {},
   "source": [
    " "
   ]
  }
 ],
 "metadata": {
  "kernelspec": {
   "display_name": "Python 3",
   "language": "python",
   "name": "python3"
  },
  "language_info": {
   "codemirror_mode": {
    "name": "ipython",
    "version": 3
   },
   "file_extension": ".py",
   "mimetype": "text/x-python",
   "name": "python",
   "nbconvert_exporter": "python",
   "pygments_lexer": "ipython3",
   "version": "3.8.3"
  }
 },
 "nbformat": 4,
 "nbformat_minor": 4
}
